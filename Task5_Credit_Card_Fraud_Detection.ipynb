{
  "nbformat": 4,
  "nbformat_minor": 0,
  "metadata": {
    "colab": {
      "provenance": []
    },
    "kernelspec": {
      "name": "python3",
      "display_name": "Python 3"
    },
    "language_info": {
      "name": "python"
    }
  },
  "cells": [
    {
      "cell_type": "markdown",
      "source": [
        "**Credit Card Fraud Detection**\n",
        "\n",
        "**Task 05 : Problem Statement**\n",
        "\n",
        "1.Build a machine learning model to identify fradulent credit card transactions.\n",
        "\n",
        "2.Preprocess and normalize the transaction data, handle class inbalance issues, and split the dataset into training and testing sets.\n",
        "\n",
        "3.Train a classification algorithm,such as logistic regression or random forests to classify transactions as fraudelent or genuine.\n",
        "\n",
        "4.Evaluate the model's performance using metrics like precision, recall, and f1-score and cosider techniques like oversampling or undersampling for improving results.\n",
        "\n",
        "**Work Flow**\n",
        "\n",
        "1.Data loading\n",
        "\n",
        "2.Data pre-processing\n",
        "\n",
        "3.Exploratory Data analysis\n",
        "\n",
        "4.Spliting training and test data\n",
        "\n",
        "5.Model training -Logistic Regression\n",
        "\n",
        "6.Model Evaluation\n"
      ],
      "metadata": {
        "id": "OelfYd_j9Fki"
      }
    },
    {
      "cell_type": "code",
      "execution_count": 1,
      "metadata": {
        "id": "MH6dImWKscNk"
      },
      "outputs": [],
      "source": [
        "# Importig the libraries\n",
        "\n",
        "import pandas as pd\n",
        "import numpy as np\n",
        "from sklearn.model_selection import train_test_split\n",
        "from sklearn.linear_model import LogisticRegression\n",
        "from sklearn.metrics import accuracy_score, f1_score, confusion_matrix, recall_score , classification_report\n"
      ]
    },
    {
      "cell_type": "code",
      "source": [
        "# loding the dataset\n",
        "\n",
        "cc_data= pd.read_csv('/content/creditcard.csv')"
      ],
      "metadata": {
        "id": "lLaym8Ss-84R"
      },
      "execution_count": 2,
      "outputs": []
    },
    {
      "cell_type": "code",
      "source": [
        "# Shows first 5 rows of dataframe\n",
        "cc_data.head()"
      ],
      "metadata": {
        "colab": {
          "base_uri": "https://localhost:8080/",
          "height": 255
        },
        "id": "YK4OymRZ_IIi",
        "outputId": "b27f214a-a27f-47a6-ae24-b291e2ea3938"
      },
      "execution_count": 3,
      "outputs": [
        {
          "output_type": "execute_result",
          "data": {
            "text/plain": [
              "   Time        V1        V2        V3        V4        V5        V6        V7  \\\n",
              "0     0 -1.359807 -0.072781  2.536347  1.378155 -0.338321  0.462388  0.239599   \n",
              "1     0  1.191857  0.266151  0.166480  0.448154  0.060018 -0.082361 -0.078803   \n",
              "2     1 -1.358354 -1.340163  1.773209  0.379780 -0.503198  1.800499  0.791461   \n",
              "3     1 -0.966272 -0.185226  1.792993 -0.863291 -0.010309  1.247203  0.237609   \n",
              "4     2 -1.158233  0.877737  1.548718  0.403034 -0.407193  0.095921  0.592941   \n",
              "\n",
              "         V8        V9  ...       V21       V22       V23       V24       V25  \\\n",
              "0  0.098698  0.363787  ... -0.018307  0.277838 -0.110474  0.066928  0.128539   \n",
              "1  0.085102 -0.255425  ... -0.225775 -0.638672  0.101288 -0.339846  0.167170   \n",
              "2  0.247676 -1.514654  ...  0.247998  0.771679  0.909412 -0.689281 -0.327642   \n",
              "3  0.377436 -1.387024  ... -0.108300  0.005274 -0.190321 -1.175575  0.647376   \n",
              "4 -0.270533  0.817739  ... -0.009431  0.798278 -0.137458  0.141267 -0.206010   \n",
              "\n",
              "        V26       V27       V28  Amount  Class  \n",
              "0 -0.189115  0.133558 -0.021053  149.62    0.0  \n",
              "1  0.125895 -0.008983  0.014724    2.69    0.0  \n",
              "2 -0.139097 -0.055353 -0.059752  378.66    0.0  \n",
              "3 -0.221929  0.062723  0.061458  123.50    0.0  \n",
              "4  0.502292  0.219422  0.215153   69.99    0.0  \n",
              "\n",
              "[5 rows x 31 columns]"
            ],
            "text/html": [
              "\n",
              "  <div id=\"df-0d445e37-ab4f-494d-85d4-a4ae057e6ae4\" class=\"colab-df-container\">\n",
              "    <div>\n",
              "<style scoped>\n",
              "    .dataframe tbody tr th:only-of-type {\n",
              "        vertical-align: middle;\n",
              "    }\n",
              "\n",
              "    .dataframe tbody tr th {\n",
              "        vertical-align: top;\n",
              "    }\n",
              "\n",
              "    .dataframe thead th {\n",
              "        text-align: right;\n",
              "    }\n",
              "</style>\n",
              "<table border=\"1\" class=\"dataframe\">\n",
              "  <thead>\n",
              "    <tr style=\"text-align: right;\">\n",
              "      <th></th>\n",
              "      <th>Time</th>\n",
              "      <th>V1</th>\n",
              "      <th>V2</th>\n",
              "      <th>V3</th>\n",
              "      <th>V4</th>\n",
              "      <th>V5</th>\n",
              "      <th>V6</th>\n",
              "      <th>V7</th>\n",
              "      <th>V8</th>\n",
              "      <th>V9</th>\n",
              "      <th>...</th>\n",
              "      <th>V21</th>\n",
              "      <th>V22</th>\n",
              "      <th>V23</th>\n",
              "      <th>V24</th>\n",
              "      <th>V25</th>\n",
              "      <th>V26</th>\n",
              "      <th>V27</th>\n",
              "      <th>V28</th>\n",
              "      <th>Amount</th>\n",
              "      <th>Class</th>\n",
              "    </tr>\n",
              "  </thead>\n",
              "  <tbody>\n",
              "    <tr>\n",
              "      <th>0</th>\n",
              "      <td>0</td>\n",
              "      <td>-1.359807</td>\n",
              "      <td>-0.072781</td>\n",
              "      <td>2.536347</td>\n",
              "      <td>1.378155</td>\n",
              "      <td>-0.338321</td>\n",
              "      <td>0.462388</td>\n",
              "      <td>0.239599</td>\n",
              "      <td>0.098698</td>\n",
              "      <td>0.363787</td>\n",
              "      <td>...</td>\n",
              "      <td>-0.018307</td>\n",
              "      <td>0.277838</td>\n",
              "      <td>-0.110474</td>\n",
              "      <td>0.066928</td>\n",
              "      <td>0.128539</td>\n",
              "      <td>-0.189115</td>\n",
              "      <td>0.133558</td>\n",
              "      <td>-0.021053</td>\n",
              "      <td>149.62</td>\n",
              "      <td>0.0</td>\n",
              "    </tr>\n",
              "    <tr>\n",
              "      <th>1</th>\n",
              "      <td>0</td>\n",
              "      <td>1.191857</td>\n",
              "      <td>0.266151</td>\n",
              "      <td>0.166480</td>\n",
              "      <td>0.448154</td>\n",
              "      <td>0.060018</td>\n",
              "      <td>-0.082361</td>\n",
              "      <td>-0.078803</td>\n",
              "      <td>0.085102</td>\n",
              "      <td>-0.255425</td>\n",
              "      <td>...</td>\n",
              "      <td>-0.225775</td>\n",
              "      <td>-0.638672</td>\n",
              "      <td>0.101288</td>\n",
              "      <td>-0.339846</td>\n",
              "      <td>0.167170</td>\n",
              "      <td>0.125895</td>\n",
              "      <td>-0.008983</td>\n",
              "      <td>0.014724</td>\n",
              "      <td>2.69</td>\n",
              "      <td>0.0</td>\n",
              "    </tr>\n",
              "    <tr>\n",
              "      <th>2</th>\n",
              "      <td>1</td>\n",
              "      <td>-1.358354</td>\n",
              "      <td>-1.340163</td>\n",
              "      <td>1.773209</td>\n",
              "      <td>0.379780</td>\n",
              "      <td>-0.503198</td>\n",
              "      <td>1.800499</td>\n",
              "      <td>0.791461</td>\n",
              "      <td>0.247676</td>\n",
              "      <td>-1.514654</td>\n",
              "      <td>...</td>\n",
              "      <td>0.247998</td>\n",
              "      <td>0.771679</td>\n",
              "      <td>0.909412</td>\n",
              "      <td>-0.689281</td>\n",
              "      <td>-0.327642</td>\n",
              "      <td>-0.139097</td>\n",
              "      <td>-0.055353</td>\n",
              "      <td>-0.059752</td>\n",
              "      <td>378.66</td>\n",
              "      <td>0.0</td>\n",
              "    </tr>\n",
              "    <tr>\n",
              "      <th>3</th>\n",
              "      <td>1</td>\n",
              "      <td>-0.966272</td>\n",
              "      <td>-0.185226</td>\n",
              "      <td>1.792993</td>\n",
              "      <td>-0.863291</td>\n",
              "      <td>-0.010309</td>\n",
              "      <td>1.247203</td>\n",
              "      <td>0.237609</td>\n",
              "      <td>0.377436</td>\n",
              "      <td>-1.387024</td>\n",
              "      <td>...</td>\n",
              "      <td>-0.108300</td>\n",
              "      <td>0.005274</td>\n",
              "      <td>-0.190321</td>\n",
              "      <td>-1.175575</td>\n",
              "      <td>0.647376</td>\n",
              "      <td>-0.221929</td>\n",
              "      <td>0.062723</td>\n",
              "      <td>0.061458</td>\n",
              "      <td>123.50</td>\n",
              "      <td>0.0</td>\n",
              "    </tr>\n",
              "    <tr>\n",
              "      <th>4</th>\n",
              "      <td>2</td>\n",
              "      <td>-1.158233</td>\n",
              "      <td>0.877737</td>\n",
              "      <td>1.548718</td>\n",
              "      <td>0.403034</td>\n",
              "      <td>-0.407193</td>\n",
              "      <td>0.095921</td>\n",
              "      <td>0.592941</td>\n",
              "      <td>-0.270533</td>\n",
              "      <td>0.817739</td>\n",
              "      <td>...</td>\n",
              "      <td>-0.009431</td>\n",
              "      <td>0.798278</td>\n",
              "      <td>-0.137458</td>\n",
              "      <td>0.141267</td>\n",
              "      <td>-0.206010</td>\n",
              "      <td>0.502292</td>\n",
              "      <td>0.219422</td>\n",
              "      <td>0.215153</td>\n",
              "      <td>69.99</td>\n",
              "      <td>0.0</td>\n",
              "    </tr>\n",
              "  </tbody>\n",
              "</table>\n",
              "<p>5 rows × 31 columns</p>\n",
              "</div>\n",
              "    <div class=\"colab-df-buttons\">\n",
              "\n",
              "  <div class=\"colab-df-container\">\n",
              "    <button class=\"colab-df-convert\" onclick=\"convertToInteractive('df-0d445e37-ab4f-494d-85d4-a4ae057e6ae4')\"\n",
              "            title=\"Convert this dataframe to an interactive table.\"\n",
              "            style=\"display:none;\">\n",
              "\n",
              "  <svg xmlns=\"http://www.w3.org/2000/svg\" height=\"24px\" viewBox=\"0 -960 960 960\">\n",
              "    <path d=\"M120-120v-720h720v720H120Zm60-500h600v-160H180v160Zm220 220h160v-160H400v160Zm0 220h160v-160H400v160ZM180-400h160v-160H180v160Zm440 0h160v-160H620v160ZM180-180h160v-160H180v160Zm440 0h160v-160H620v160Z\"/>\n",
              "  </svg>\n",
              "    </button>\n",
              "\n",
              "  <style>\n",
              "    .colab-df-container {\n",
              "      display:flex;\n",
              "      gap: 12px;\n",
              "    }\n",
              "\n",
              "    .colab-df-convert {\n",
              "      background-color: #E8F0FE;\n",
              "      border: none;\n",
              "      border-radius: 50%;\n",
              "      cursor: pointer;\n",
              "      display: none;\n",
              "      fill: #1967D2;\n",
              "      height: 32px;\n",
              "      padding: 0 0 0 0;\n",
              "      width: 32px;\n",
              "    }\n",
              "\n",
              "    .colab-df-convert:hover {\n",
              "      background-color: #E2EBFA;\n",
              "      box-shadow: 0px 1px 2px rgba(60, 64, 67, 0.3), 0px 1px 3px 1px rgba(60, 64, 67, 0.15);\n",
              "      fill: #174EA6;\n",
              "    }\n",
              "\n",
              "    .colab-df-buttons div {\n",
              "      margin-bottom: 4px;\n",
              "    }\n",
              "\n",
              "    [theme=dark] .colab-df-convert {\n",
              "      background-color: #3B4455;\n",
              "      fill: #D2E3FC;\n",
              "    }\n",
              "\n",
              "    [theme=dark] .colab-df-convert:hover {\n",
              "      background-color: #434B5C;\n",
              "      box-shadow: 0px 1px 3px 1px rgba(0, 0, 0, 0.15);\n",
              "      filter: drop-shadow(0px 1px 2px rgba(0, 0, 0, 0.3));\n",
              "      fill: #FFFFFF;\n",
              "    }\n",
              "  </style>\n",
              "\n",
              "    <script>\n",
              "      const buttonEl =\n",
              "        document.querySelector('#df-0d445e37-ab4f-494d-85d4-a4ae057e6ae4 button.colab-df-convert');\n",
              "      buttonEl.style.display =\n",
              "        google.colab.kernel.accessAllowed ? 'block' : 'none';\n",
              "\n",
              "      async function convertToInteractive(key) {\n",
              "        const element = document.querySelector('#df-0d445e37-ab4f-494d-85d4-a4ae057e6ae4');\n",
              "        const dataTable =\n",
              "          await google.colab.kernel.invokeFunction('convertToInteractive',\n",
              "                                                    [key], {});\n",
              "        if (!dataTable) return;\n",
              "\n",
              "        const docLinkHtml = 'Like what you see? Visit the ' +\n",
              "          '<a target=\"_blank\" href=https://colab.research.google.com/notebooks/data_table.ipynb>data table notebook</a>'\n",
              "          + ' to learn more about interactive tables.';\n",
              "        element.innerHTML = '';\n",
              "        dataTable['output_type'] = 'display_data';\n",
              "        await google.colab.output.renderOutput(dataTable, element);\n",
              "        const docLink = document.createElement('div');\n",
              "        docLink.innerHTML = docLinkHtml;\n",
              "        element.appendChild(docLink);\n",
              "      }\n",
              "    </script>\n",
              "  </div>\n",
              "\n",
              "\n",
              "<div id=\"df-72793c57-ce0d-45e4-838f-ea2976282ab4\">\n",
              "  <button class=\"colab-df-quickchart\" onclick=\"quickchart('df-72793c57-ce0d-45e4-838f-ea2976282ab4')\"\n",
              "            title=\"Suggest charts.\"\n",
              "            style=\"display:none;\">\n",
              "\n",
              "<svg xmlns=\"http://www.w3.org/2000/svg\" height=\"24px\"viewBox=\"0 0 24 24\"\n",
              "     width=\"24px\">\n",
              "    <g>\n",
              "        <path d=\"M19 3H5c-1.1 0-2 .9-2 2v14c0 1.1.9 2 2 2h14c1.1 0 2-.9 2-2V5c0-1.1-.9-2-2-2zM9 17H7v-7h2v7zm4 0h-2V7h2v10zm4 0h-2v-4h2v4z\"/>\n",
              "    </g>\n",
              "</svg>\n",
              "  </button>\n",
              "\n",
              "<style>\n",
              "  .colab-df-quickchart {\n",
              "    background-color: #E8F0FE;\n",
              "    border: none;\n",
              "    border-radius: 50%;\n",
              "    cursor: pointer;\n",
              "    display: none;\n",
              "    fill: #1967D2;\n",
              "    height: 32px;\n",
              "    padding: 0 0 0 0;\n",
              "    width: 32px;\n",
              "  }\n",
              "\n",
              "  .colab-df-quickchart:hover {\n",
              "    background-color: #E2EBFA;\n",
              "    box-shadow: 0px 1px 2px rgba(60, 64, 67, 0.3), 0px 1px 3px 1px rgba(60, 64, 67, 0.15);\n",
              "    fill: #174EA6;\n",
              "  }\n",
              "\n",
              "  [theme=dark] .colab-df-quickchart {\n",
              "    background-color: #3B4455;\n",
              "    fill: #D2E3FC;\n",
              "  }\n",
              "\n",
              "  [theme=dark] .colab-df-quickchart:hover {\n",
              "    background-color: #434B5C;\n",
              "    box-shadow: 0px 1px 3px 1px rgba(0, 0, 0, 0.15);\n",
              "    filter: drop-shadow(0px 1px 2px rgba(0, 0, 0, 0.3));\n",
              "    fill: #FFFFFF;\n",
              "  }\n",
              "</style>\n",
              "\n",
              "  <script>\n",
              "    async function quickchart(key) {\n",
              "      const charts = await google.colab.kernel.invokeFunction(\n",
              "          'suggestCharts', [key], {});\n",
              "    }\n",
              "    (() => {\n",
              "      let quickchartButtonEl =\n",
              "        document.querySelector('#df-72793c57-ce0d-45e4-838f-ea2976282ab4 button');\n",
              "      quickchartButtonEl.style.display =\n",
              "        google.colab.kernel.accessAllowed ? 'block' : 'none';\n",
              "    })();\n",
              "  </script>\n",
              "</div>\n",
              "    </div>\n",
              "  </div>\n"
            ]
          },
          "metadata": {},
          "execution_count": 3
        }
      ]
    },
    {
      "cell_type": "code",
      "source": [
        "cc_data.info()  # to get information about dataset"
      ],
      "metadata": {
        "colab": {
          "base_uri": "https://localhost:8080/"
        },
        "id": "j1XkxYE__QYu",
        "outputId": "0587d2dc-fa43-4fcf-e751-179576bbad9f"
      },
      "execution_count": 4,
      "outputs": [
        {
          "output_type": "stream",
          "name": "stdout",
          "text": [
            "<class 'pandas.core.frame.DataFrame'>\n",
            "RangeIndex: 128821 entries, 0 to 128820\n",
            "Data columns (total 31 columns):\n",
            " #   Column  Non-Null Count   Dtype  \n",
            "---  ------  --------------   -----  \n",
            " 0   Time    128821 non-null  int64  \n",
            " 1   V1      128821 non-null  float64\n",
            " 2   V2      128821 non-null  float64\n",
            " 3   V3      128821 non-null  float64\n",
            " 4   V4      128821 non-null  float64\n",
            " 5   V5      128821 non-null  float64\n",
            " 6   V6      128821 non-null  float64\n",
            " 7   V7      128821 non-null  float64\n",
            " 8   V8      128821 non-null  float64\n",
            " 9   V9      128821 non-null  float64\n",
            " 10  V10     128821 non-null  float64\n",
            " 11  V11     128821 non-null  float64\n",
            " 12  V12     128821 non-null  float64\n",
            " 13  V13     128821 non-null  float64\n",
            " 14  V14     128821 non-null  float64\n",
            " 15  V15     128821 non-null  float64\n",
            " 16  V16     128820 non-null  float64\n",
            " 17  V17     128820 non-null  float64\n",
            " 18  V18     128820 non-null  float64\n",
            " 19  V19     128820 non-null  float64\n",
            " 20  V20     128820 non-null  float64\n",
            " 21  V21     128820 non-null  float64\n",
            " 22  V22     128820 non-null  float64\n",
            " 23  V23     128820 non-null  float64\n",
            " 24  V24     128820 non-null  float64\n",
            " 25  V25     128820 non-null  float64\n",
            " 26  V26     128820 non-null  float64\n",
            " 27  V27     128820 non-null  float64\n",
            " 28  V28     128820 non-null  float64\n",
            " 29  Amount  128820 non-null  float64\n",
            " 30  Class   128820 non-null  float64\n",
            "dtypes: float64(30), int64(1)\n",
            "memory usage: 30.5 MB\n"
          ]
        }
      ]
    },
    {
      "cell_type": "code",
      "source": [
        "# Checking the missing values\n",
        "cc_data.isnull().sum()"
      ],
      "metadata": {
        "colab": {
          "base_uri": "https://localhost:8080/"
        },
        "id": "BTl3JhUi_TWj",
        "outputId": "cc6e6e5f-8d79-4d8b-e500-ce7195cc8ec7"
      },
      "execution_count": 5,
      "outputs": [
        {
          "output_type": "execute_result",
          "data": {
            "text/plain": [
              "Time      0\n",
              "V1        0\n",
              "V2        0\n",
              "V3        0\n",
              "V4        0\n",
              "V5        0\n",
              "V6        0\n",
              "V7        0\n",
              "V8        0\n",
              "V9        0\n",
              "V10       0\n",
              "V11       0\n",
              "V12       0\n",
              "V13       0\n",
              "V14       0\n",
              "V15       0\n",
              "V16       1\n",
              "V17       1\n",
              "V18       1\n",
              "V19       1\n",
              "V20       1\n",
              "V21       1\n",
              "V22       1\n",
              "V23       1\n",
              "V24       1\n",
              "V25       1\n",
              "V26       1\n",
              "V27       1\n",
              "V28       1\n",
              "Amount    1\n",
              "Class     1\n",
              "dtype: int64"
            ]
          },
          "metadata": {},
          "execution_count": 5
        }
      ]
    },
    {
      "cell_type": "code",
      "source": [
        "# distribution of legit transaction and fradulent transaction\n",
        "\n",
        "cc_data['Class'].value_counts()\n",
        "# 0---> normal transaction\n",
        "# 1---> fradulent transaction"
      ],
      "metadata": {
        "colab": {
          "base_uri": "https://localhost:8080/"
        },
        "id": "k8Qn2UvH_WSa",
        "outputId": "05a1779c-bdec-45ad-fb3e-5902312f5362"
      },
      "execution_count": 6,
      "outputs": [
        {
          "output_type": "execute_result",
          "data": {
            "text/plain": [
              "0.0    128559\n",
              "1.0       261\n",
              "Name: Class, dtype: int64"
            ]
          },
          "metadata": {},
          "execution_count": 6
        }
      ]
    },
    {
      "cell_type": "code",
      "source": [
        "# separating the data\n",
        "\n",
        "legit=cc_data[cc_data.Class==0]\n",
        "fraud=cc_data[cc_data.Class==1]"
      ],
      "metadata": {
        "id": "qR7SeOaI_a5i"
      },
      "execution_count": 7,
      "outputs": []
    },
    {
      "cell_type": "code",
      "source": [
        "print(legit.shape)\n",
        "print(fraud.shape)"
      ],
      "metadata": {
        "colab": {
          "base_uri": "https://localhost:8080/"
        },
        "id": "JChztFeM_doV",
        "outputId": "841c0c2a-34dc-421c-9472-82a97d9c6c5d"
      },
      "execution_count": 8,
      "outputs": [
        {
          "output_type": "stream",
          "name": "stdout",
          "text": [
            "(128559, 31)\n",
            "(261, 31)\n"
          ]
        }
      ]
    },
    {
      "cell_type": "code",
      "source": [
        "# Statstical info\n",
        "legit.Amount.describe()"
      ],
      "metadata": {
        "colab": {
          "base_uri": "https://localhost:8080/"
        },
        "id": "iKBnasaC_lMw",
        "outputId": "df02e286-b379-453d-f4e1-8f2b45553ed7"
      },
      "execution_count": 9,
      "outputs": [
        {
          "output_type": "execute_result",
          "data": {
            "text/plain": [
              "count    128559.000000\n",
              "mean         92.909269\n",
              "std         251.540738\n",
              "min           0.000000\n",
              "25%           6.500000\n",
              "50%          24.950000\n",
              "75%          83.190000\n",
              "max       19656.530000\n",
              "Name: Amount, dtype: float64"
            ]
          },
          "metadata": {},
          "execution_count": 9
        }
      ]
    },
    {
      "cell_type": "code",
      "source": [
        "fraud.Amount.describe()"
      ],
      "metadata": {
        "colab": {
          "base_uri": "https://localhost:8080/"
        },
        "id": "KoV7hdlg_nkp",
        "outputId": "49eb0b61-4176-480d-b211-5fa9f6549188"
      },
      "execution_count": 10,
      "outputs": [
        {
          "output_type": "execute_result",
          "data": {
            "text/plain": [
              "count     261.000000\n",
              "mean      116.679693\n",
              "std       246.300626\n",
              "min         0.000000\n",
              "25%         1.000000\n",
              "50%        11.380000\n",
              "75%        99.990000\n",
              "max      1809.680000\n",
              "Name: Amount, dtype: float64"
            ]
          },
          "metadata": {},
          "execution_count": 10
        }
      ]
    },
    {
      "cell_type": "code",
      "source": [
        "fraud.Amount.describe()"
      ],
      "metadata": {
        "colab": {
          "base_uri": "https://localhost:8080/"
        },
        "id": "S9pU4MYV_rB4",
        "outputId": "9d2dc28c-686b-4210-e3e1-156c392a0c7c"
      },
      "execution_count": 11,
      "outputs": [
        {
          "output_type": "execute_result",
          "data": {
            "text/plain": [
              "count     261.000000\n",
              "mean      116.679693\n",
              "std       246.300626\n",
              "min         0.000000\n",
              "25%         1.000000\n",
              "50%        11.380000\n",
              "75%        99.990000\n",
              "max      1809.680000\n",
              "Name: Amount, dtype: float64"
            ]
          },
          "metadata": {},
          "execution_count": 11
        }
      ]
    },
    {
      "cell_type": "code",
      "source": [
        "# Under Sampling -- building a sample dataset containing similar distribution of normal transaction and fradulent transaction.\n",
        "\n",
        "#number of fradulent transaction = 261\n",
        "\n",
        "\n",
        "legit_sample=legit.sample(n=261)"
      ],
      "metadata": {
        "id": "YWgXZe6L_tOq"
      },
      "execution_count": 17,
      "outputs": []
    },
    {
      "cell_type": "code",
      "source": [
        "# concatenating\n",
        "\n",
        "new_data=pd.concat([legit_sample, fraud],axis=0)"
      ],
      "metadata": {
        "id": "g8iMJk4W_zUv"
      },
      "execution_count": 13,
      "outputs": []
    },
    {
      "cell_type": "code",
      "source": [
        "new_data.tail() # checking bottem columns and rows"
      ],
      "metadata": {
        "colab": {
          "base_uri": "https://localhost:8080/",
          "height": 255
        },
        "id": "gmGGi495_2DA",
        "outputId": "3b6cfe2e-22d0-4486-92fc-d5fd58b183b5"
      },
      "execution_count": 14,
      "outputs": [
        {
          "output_type": "execute_result",
          "data": {
            "text/plain": [
              "         Time        V1        V2        V3        V4        V5        V6  \\\n",
              "124087  77171  1.118560  1.291858 -1.298805  2.135772  0.772204 -1.147291   \n",
              "124115  77182 -1.410852  2.268271 -2.297554  1.871331  0.248957 -1.208799   \n",
              "124176  77202 -0.356326  1.435305 -0.813564  1.993117  2.055878 -0.543579   \n",
              "125342  77627 -7.139060  2.773082 -6.757845  4.446456 -5.464428 -1.713401   \n",
              "128479  78725 -4.312479  1.886476 -2.338634 -0.475243 -1.185444 -2.112079   \n",
              "\n",
              "              V7        V8        V9  ...       V21       V22       V23  \\\n",
              "124087  0.390578 -0.107072 -0.038339  ... -0.346374 -0.663588 -0.102326   \n",
              "124115 -1.358648  1.102916 -1.317364  ...  0.155381 -0.614880 -0.196126   \n",
              "124176  0.487691  0.085449 -0.536352  ... -0.312863 -0.687874 -0.267003   \n",
              "125342 -6.485365  3.409395 -3.053493  ...  1.303250 -0.016118 -0.876670   \n",
              "128479 -2.122793  0.272565  0.290273  ...  0.550541 -0.067870 -1.114692   \n",
              "\n",
              "             V24       V25       V26       V27       V28  Amount  Class  \n",
              "124087  0.017911  0.650302 -0.332366  0.105949  0.128124     1.0    1.0  \n",
              "124115 -0.464376  0.118473 -0.484537  0.373596  0.187657     1.0    1.0  \n",
              "124176 -1.158480  0.271460 -0.155397  0.114328  0.101526     1.0    1.0  \n",
              "125342  0.382230 -1.054624 -0.614606 -0.766848  0.409424   106.9    1.0  \n",
              "128479  0.269069 -0.020572 -0.963489 -0.918888  0.001454    60.0    1.0  \n",
              "\n",
              "[5 rows x 31 columns]"
            ],
            "text/html": [
              "\n",
              "  <div id=\"df-21dc64bb-cecb-400d-af1c-9b14c3723b97\" class=\"colab-df-container\">\n",
              "    <div>\n",
              "<style scoped>\n",
              "    .dataframe tbody tr th:only-of-type {\n",
              "        vertical-align: middle;\n",
              "    }\n",
              "\n",
              "    .dataframe tbody tr th {\n",
              "        vertical-align: top;\n",
              "    }\n",
              "\n",
              "    .dataframe thead th {\n",
              "        text-align: right;\n",
              "    }\n",
              "</style>\n",
              "<table border=\"1\" class=\"dataframe\">\n",
              "  <thead>\n",
              "    <tr style=\"text-align: right;\">\n",
              "      <th></th>\n",
              "      <th>Time</th>\n",
              "      <th>V1</th>\n",
              "      <th>V2</th>\n",
              "      <th>V3</th>\n",
              "      <th>V4</th>\n",
              "      <th>V5</th>\n",
              "      <th>V6</th>\n",
              "      <th>V7</th>\n",
              "      <th>V8</th>\n",
              "      <th>V9</th>\n",
              "      <th>...</th>\n",
              "      <th>V21</th>\n",
              "      <th>V22</th>\n",
              "      <th>V23</th>\n",
              "      <th>V24</th>\n",
              "      <th>V25</th>\n",
              "      <th>V26</th>\n",
              "      <th>V27</th>\n",
              "      <th>V28</th>\n",
              "      <th>Amount</th>\n",
              "      <th>Class</th>\n",
              "    </tr>\n",
              "  </thead>\n",
              "  <tbody>\n",
              "    <tr>\n",
              "      <th>124087</th>\n",
              "      <td>77171</td>\n",
              "      <td>1.118560</td>\n",
              "      <td>1.291858</td>\n",
              "      <td>-1.298805</td>\n",
              "      <td>2.135772</td>\n",
              "      <td>0.772204</td>\n",
              "      <td>-1.147291</td>\n",
              "      <td>0.390578</td>\n",
              "      <td>-0.107072</td>\n",
              "      <td>-0.038339</td>\n",
              "      <td>...</td>\n",
              "      <td>-0.346374</td>\n",
              "      <td>-0.663588</td>\n",
              "      <td>-0.102326</td>\n",
              "      <td>0.017911</td>\n",
              "      <td>0.650302</td>\n",
              "      <td>-0.332366</td>\n",
              "      <td>0.105949</td>\n",
              "      <td>0.128124</td>\n",
              "      <td>1.0</td>\n",
              "      <td>1.0</td>\n",
              "    </tr>\n",
              "    <tr>\n",
              "      <th>124115</th>\n",
              "      <td>77182</td>\n",
              "      <td>-1.410852</td>\n",
              "      <td>2.268271</td>\n",
              "      <td>-2.297554</td>\n",
              "      <td>1.871331</td>\n",
              "      <td>0.248957</td>\n",
              "      <td>-1.208799</td>\n",
              "      <td>-1.358648</td>\n",
              "      <td>1.102916</td>\n",
              "      <td>-1.317364</td>\n",
              "      <td>...</td>\n",
              "      <td>0.155381</td>\n",
              "      <td>-0.614880</td>\n",
              "      <td>-0.196126</td>\n",
              "      <td>-0.464376</td>\n",
              "      <td>0.118473</td>\n",
              "      <td>-0.484537</td>\n",
              "      <td>0.373596</td>\n",
              "      <td>0.187657</td>\n",
              "      <td>1.0</td>\n",
              "      <td>1.0</td>\n",
              "    </tr>\n",
              "    <tr>\n",
              "      <th>124176</th>\n",
              "      <td>77202</td>\n",
              "      <td>-0.356326</td>\n",
              "      <td>1.435305</td>\n",
              "      <td>-0.813564</td>\n",
              "      <td>1.993117</td>\n",
              "      <td>2.055878</td>\n",
              "      <td>-0.543579</td>\n",
              "      <td>0.487691</td>\n",
              "      <td>0.085449</td>\n",
              "      <td>-0.536352</td>\n",
              "      <td>...</td>\n",
              "      <td>-0.312863</td>\n",
              "      <td>-0.687874</td>\n",
              "      <td>-0.267003</td>\n",
              "      <td>-1.158480</td>\n",
              "      <td>0.271460</td>\n",
              "      <td>-0.155397</td>\n",
              "      <td>0.114328</td>\n",
              "      <td>0.101526</td>\n",
              "      <td>1.0</td>\n",
              "      <td>1.0</td>\n",
              "    </tr>\n",
              "    <tr>\n",
              "      <th>125342</th>\n",
              "      <td>77627</td>\n",
              "      <td>-7.139060</td>\n",
              "      <td>2.773082</td>\n",
              "      <td>-6.757845</td>\n",
              "      <td>4.446456</td>\n",
              "      <td>-5.464428</td>\n",
              "      <td>-1.713401</td>\n",
              "      <td>-6.485365</td>\n",
              "      <td>3.409395</td>\n",
              "      <td>-3.053493</td>\n",
              "      <td>...</td>\n",
              "      <td>1.303250</td>\n",
              "      <td>-0.016118</td>\n",
              "      <td>-0.876670</td>\n",
              "      <td>0.382230</td>\n",
              "      <td>-1.054624</td>\n",
              "      <td>-0.614606</td>\n",
              "      <td>-0.766848</td>\n",
              "      <td>0.409424</td>\n",
              "      <td>106.9</td>\n",
              "      <td>1.0</td>\n",
              "    </tr>\n",
              "    <tr>\n",
              "      <th>128479</th>\n",
              "      <td>78725</td>\n",
              "      <td>-4.312479</td>\n",
              "      <td>1.886476</td>\n",
              "      <td>-2.338634</td>\n",
              "      <td>-0.475243</td>\n",
              "      <td>-1.185444</td>\n",
              "      <td>-2.112079</td>\n",
              "      <td>-2.122793</td>\n",
              "      <td>0.272565</td>\n",
              "      <td>0.290273</td>\n",
              "      <td>...</td>\n",
              "      <td>0.550541</td>\n",
              "      <td>-0.067870</td>\n",
              "      <td>-1.114692</td>\n",
              "      <td>0.269069</td>\n",
              "      <td>-0.020572</td>\n",
              "      <td>-0.963489</td>\n",
              "      <td>-0.918888</td>\n",
              "      <td>0.001454</td>\n",
              "      <td>60.0</td>\n",
              "      <td>1.0</td>\n",
              "    </tr>\n",
              "  </tbody>\n",
              "</table>\n",
              "<p>5 rows × 31 columns</p>\n",
              "</div>\n",
              "    <div class=\"colab-df-buttons\">\n",
              "\n",
              "  <div class=\"colab-df-container\">\n",
              "    <button class=\"colab-df-convert\" onclick=\"convertToInteractive('df-21dc64bb-cecb-400d-af1c-9b14c3723b97')\"\n",
              "            title=\"Convert this dataframe to an interactive table.\"\n",
              "            style=\"display:none;\">\n",
              "\n",
              "  <svg xmlns=\"http://www.w3.org/2000/svg\" height=\"24px\" viewBox=\"0 -960 960 960\">\n",
              "    <path d=\"M120-120v-720h720v720H120Zm60-500h600v-160H180v160Zm220 220h160v-160H400v160Zm0 220h160v-160H400v160ZM180-400h160v-160H180v160Zm440 0h160v-160H620v160ZM180-180h160v-160H180v160Zm440 0h160v-160H620v160Z\"/>\n",
              "  </svg>\n",
              "    </button>\n",
              "\n",
              "  <style>\n",
              "    .colab-df-container {\n",
              "      display:flex;\n",
              "      gap: 12px;\n",
              "    }\n",
              "\n",
              "    .colab-df-convert {\n",
              "      background-color: #E8F0FE;\n",
              "      border: none;\n",
              "      border-radius: 50%;\n",
              "      cursor: pointer;\n",
              "      display: none;\n",
              "      fill: #1967D2;\n",
              "      height: 32px;\n",
              "      padding: 0 0 0 0;\n",
              "      width: 32px;\n",
              "    }\n",
              "\n",
              "    .colab-df-convert:hover {\n",
              "      background-color: #E2EBFA;\n",
              "      box-shadow: 0px 1px 2px rgba(60, 64, 67, 0.3), 0px 1px 3px 1px rgba(60, 64, 67, 0.15);\n",
              "      fill: #174EA6;\n",
              "    }\n",
              "\n",
              "    .colab-df-buttons div {\n",
              "      margin-bottom: 4px;\n",
              "    }\n",
              "\n",
              "    [theme=dark] .colab-df-convert {\n",
              "      background-color: #3B4455;\n",
              "      fill: #D2E3FC;\n",
              "    }\n",
              "\n",
              "    [theme=dark] .colab-df-convert:hover {\n",
              "      background-color: #434B5C;\n",
              "      box-shadow: 0px 1px 3px 1px rgba(0, 0, 0, 0.15);\n",
              "      filter: drop-shadow(0px 1px 2px rgba(0, 0, 0, 0.3));\n",
              "      fill: #FFFFFF;\n",
              "    }\n",
              "  </style>\n",
              "\n",
              "    <script>\n",
              "      const buttonEl =\n",
              "        document.querySelector('#df-21dc64bb-cecb-400d-af1c-9b14c3723b97 button.colab-df-convert');\n",
              "      buttonEl.style.display =\n",
              "        google.colab.kernel.accessAllowed ? 'block' : 'none';\n",
              "\n",
              "      async function convertToInteractive(key) {\n",
              "        const element = document.querySelector('#df-21dc64bb-cecb-400d-af1c-9b14c3723b97');\n",
              "        const dataTable =\n",
              "          await google.colab.kernel.invokeFunction('convertToInteractive',\n",
              "                                                    [key], {});\n",
              "        if (!dataTable) return;\n",
              "\n",
              "        const docLinkHtml = 'Like what you see? Visit the ' +\n",
              "          '<a target=\"_blank\" href=https://colab.research.google.com/notebooks/data_table.ipynb>data table notebook</a>'\n",
              "          + ' to learn more about interactive tables.';\n",
              "        element.innerHTML = '';\n",
              "        dataTable['output_type'] = 'display_data';\n",
              "        await google.colab.output.renderOutput(dataTable, element);\n",
              "        const docLink = document.createElement('div');\n",
              "        docLink.innerHTML = docLinkHtml;\n",
              "        element.appendChild(docLink);\n",
              "      }\n",
              "    </script>\n",
              "  </div>\n",
              "\n",
              "\n",
              "<div id=\"df-e0343507-bc9c-4000-814c-a8a0b8364549\">\n",
              "  <button class=\"colab-df-quickchart\" onclick=\"quickchart('df-e0343507-bc9c-4000-814c-a8a0b8364549')\"\n",
              "            title=\"Suggest charts.\"\n",
              "            style=\"display:none;\">\n",
              "\n",
              "<svg xmlns=\"http://www.w3.org/2000/svg\" height=\"24px\"viewBox=\"0 0 24 24\"\n",
              "     width=\"24px\">\n",
              "    <g>\n",
              "        <path d=\"M19 3H5c-1.1 0-2 .9-2 2v14c0 1.1.9 2 2 2h14c1.1 0 2-.9 2-2V5c0-1.1-.9-2-2-2zM9 17H7v-7h2v7zm4 0h-2V7h2v10zm4 0h-2v-4h2v4z\"/>\n",
              "    </g>\n",
              "</svg>\n",
              "  </button>\n",
              "\n",
              "<style>\n",
              "  .colab-df-quickchart {\n",
              "    background-color: #E8F0FE;\n",
              "    border: none;\n",
              "    border-radius: 50%;\n",
              "    cursor: pointer;\n",
              "    display: none;\n",
              "    fill: #1967D2;\n",
              "    height: 32px;\n",
              "    padding: 0 0 0 0;\n",
              "    width: 32px;\n",
              "  }\n",
              "\n",
              "  .colab-df-quickchart:hover {\n",
              "    background-color: #E2EBFA;\n",
              "    box-shadow: 0px 1px 2px rgba(60, 64, 67, 0.3), 0px 1px 3px 1px rgba(60, 64, 67, 0.15);\n",
              "    fill: #174EA6;\n",
              "  }\n",
              "\n",
              "  [theme=dark] .colab-df-quickchart {\n",
              "    background-color: #3B4455;\n",
              "    fill: #D2E3FC;\n",
              "  }\n",
              "\n",
              "  [theme=dark] .colab-df-quickchart:hover {\n",
              "    background-color: #434B5C;\n",
              "    box-shadow: 0px 1px 3px 1px rgba(0, 0, 0, 0.15);\n",
              "    filter: drop-shadow(0px 1px 2px rgba(0, 0, 0, 0.3));\n",
              "    fill: #FFFFFF;\n",
              "  }\n",
              "</style>\n",
              "\n",
              "  <script>\n",
              "    async function quickchart(key) {\n",
              "      const charts = await google.colab.kernel.invokeFunction(\n",
              "          'suggestCharts', [key], {});\n",
              "    }\n",
              "    (() => {\n",
              "      let quickchartButtonEl =\n",
              "        document.querySelector('#df-e0343507-bc9c-4000-814c-a8a0b8364549 button');\n",
              "      quickchartButtonEl.style.display =\n",
              "        google.colab.kernel.accessAllowed ? 'block' : 'none';\n",
              "    })();\n",
              "  </script>\n",
              "</div>\n",
              "    </div>\n",
              "  </div>\n"
            ]
          },
          "metadata": {},
          "execution_count": 14
        }
      ]
    },
    {
      "cell_type": "code",
      "source": [
        "new_data['Class'].value_counts() # verifying concatenated data"
      ],
      "metadata": {
        "colab": {
          "base_uri": "https://localhost:8080/"
        },
        "id": "uNa4kTsK_4nw",
        "outputId": "dd684cb1-3a0c-43a8-a554-22440c417d30"
      },
      "execution_count": 15,
      "outputs": [
        {
          "output_type": "execute_result",
          "data": {
            "text/plain": [
              "0.0    492\n",
              "1.0    261\n",
              "Name: Class, dtype: int64"
            ]
          },
          "metadata": {},
          "execution_count": 15
        }
      ]
    },
    {
      "cell_type": "code",
      "source": [
        "new_data.groupby('Class').mean()"
      ],
      "metadata": {
        "colab": {
          "base_uri": "https://localhost:8080/",
          "height": 193
        },
        "id": "dTX4ob40_8ql",
        "outputId": "d88e5e2a-32f3-4097-c763-e8d03eed53d1"
      },
      "execution_count": 16,
      "outputs": [
        {
          "output_type": "execute_result",
          "data": {
            "text/plain": [
              "               Time        V1        V2        V3        V4        V5  \\\n",
              "Class                                                                   \n",
              "0.0    49325.684959 -0.307618 -0.004727  0.670546  0.058531 -0.257857   \n",
              "1.0    41975.996169 -5.665868  3.973470 -7.225782  4.526519 -4.014566   \n",
              "\n",
              "             V6        V7        V8        V9  ...       V20       V21  \\\n",
              "Class                                          ...                       \n",
              "0.0    0.078380 -0.059975 -0.026491 -0.139086  ...  0.040877 -0.074115   \n",
              "1.0   -1.501321 -5.982089  1.526847 -2.616088  ...  0.238243  1.271860   \n",
              "\n",
              "            V22       V23       V24       V25       V26       V27       V28  \\\n",
              "Class                                                                         \n",
              "0.0   -0.135589 -0.025607 -0.025068  0.110088  0.060757 -0.014945 -0.034760   \n",
              "1.0   -0.320923 -0.117196 -0.105943  0.199014  0.054738  0.492548  0.081347   \n",
              "\n",
              "           Amount  \n",
              "Class              \n",
              "0.0     98.761179  \n",
              "1.0    116.679693  \n",
              "\n",
              "[2 rows x 30 columns]"
            ],
            "text/html": [
              "\n",
              "  <div id=\"df-1898b015-4654-4cdb-9760-83ced5c3eb38\" class=\"colab-df-container\">\n",
              "    <div>\n",
              "<style scoped>\n",
              "    .dataframe tbody tr th:only-of-type {\n",
              "        vertical-align: middle;\n",
              "    }\n",
              "\n",
              "    .dataframe tbody tr th {\n",
              "        vertical-align: top;\n",
              "    }\n",
              "\n",
              "    .dataframe thead th {\n",
              "        text-align: right;\n",
              "    }\n",
              "</style>\n",
              "<table border=\"1\" class=\"dataframe\">\n",
              "  <thead>\n",
              "    <tr style=\"text-align: right;\">\n",
              "      <th></th>\n",
              "      <th>Time</th>\n",
              "      <th>V1</th>\n",
              "      <th>V2</th>\n",
              "      <th>V3</th>\n",
              "      <th>V4</th>\n",
              "      <th>V5</th>\n",
              "      <th>V6</th>\n",
              "      <th>V7</th>\n",
              "      <th>V8</th>\n",
              "      <th>V9</th>\n",
              "      <th>...</th>\n",
              "      <th>V20</th>\n",
              "      <th>V21</th>\n",
              "      <th>V22</th>\n",
              "      <th>V23</th>\n",
              "      <th>V24</th>\n",
              "      <th>V25</th>\n",
              "      <th>V26</th>\n",
              "      <th>V27</th>\n",
              "      <th>V28</th>\n",
              "      <th>Amount</th>\n",
              "    </tr>\n",
              "    <tr>\n",
              "      <th>Class</th>\n",
              "      <th></th>\n",
              "      <th></th>\n",
              "      <th></th>\n",
              "      <th></th>\n",
              "      <th></th>\n",
              "      <th></th>\n",
              "      <th></th>\n",
              "      <th></th>\n",
              "      <th></th>\n",
              "      <th></th>\n",
              "      <th></th>\n",
              "      <th></th>\n",
              "      <th></th>\n",
              "      <th></th>\n",
              "      <th></th>\n",
              "      <th></th>\n",
              "      <th></th>\n",
              "      <th></th>\n",
              "      <th></th>\n",
              "      <th></th>\n",
              "      <th></th>\n",
              "    </tr>\n",
              "  </thead>\n",
              "  <tbody>\n",
              "    <tr>\n",
              "      <th>0.0</th>\n",
              "      <td>49325.684959</td>\n",
              "      <td>-0.307618</td>\n",
              "      <td>-0.004727</td>\n",
              "      <td>0.670546</td>\n",
              "      <td>0.058531</td>\n",
              "      <td>-0.257857</td>\n",
              "      <td>0.078380</td>\n",
              "      <td>-0.059975</td>\n",
              "      <td>-0.026491</td>\n",
              "      <td>-0.139086</td>\n",
              "      <td>...</td>\n",
              "      <td>0.040877</td>\n",
              "      <td>-0.074115</td>\n",
              "      <td>-0.135589</td>\n",
              "      <td>-0.025607</td>\n",
              "      <td>-0.025068</td>\n",
              "      <td>0.110088</td>\n",
              "      <td>0.060757</td>\n",
              "      <td>-0.014945</td>\n",
              "      <td>-0.034760</td>\n",
              "      <td>98.761179</td>\n",
              "    </tr>\n",
              "    <tr>\n",
              "      <th>1.0</th>\n",
              "      <td>41975.996169</td>\n",
              "      <td>-5.665868</td>\n",
              "      <td>3.973470</td>\n",
              "      <td>-7.225782</td>\n",
              "      <td>4.526519</td>\n",
              "      <td>-4.014566</td>\n",
              "      <td>-1.501321</td>\n",
              "      <td>-5.982089</td>\n",
              "      <td>1.526847</td>\n",
              "      <td>-2.616088</td>\n",
              "      <td>...</td>\n",
              "      <td>0.238243</td>\n",
              "      <td>1.271860</td>\n",
              "      <td>-0.320923</td>\n",
              "      <td>-0.117196</td>\n",
              "      <td>-0.105943</td>\n",
              "      <td>0.199014</td>\n",
              "      <td>0.054738</td>\n",
              "      <td>0.492548</td>\n",
              "      <td>0.081347</td>\n",
              "      <td>116.679693</td>\n",
              "    </tr>\n",
              "  </tbody>\n",
              "</table>\n",
              "<p>2 rows × 30 columns</p>\n",
              "</div>\n",
              "    <div class=\"colab-df-buttons\">\n",
              "\n",
              "  <div class=\"colab-df-container\">\n",
              "    <button class=\"colab-df-convert\" onclick=\"convertToInteractive('df-1898b015-4654-4cdb-9760-83ced5c3eb38')\"\n",
              "            title=\"Convert this dataframe to an interactive table.\"\n",
              "            style=\"display:none;\">\n",
              "\n",
              "  <svg xmlns=\"http://www.w3.org/2000/svg\" height=\"24px\" viewBox=\"0 -960 960 960\">\n",
              "    <path d=\"M120-120v-720h720v720H120Zm60-500h600v-160H180v160Zm220 220h160v-160H400v160Zm0 220h160v-160H400v160ZM180-400h160v-160H180v160Zm440 0h160v-160H620v160ZM180-180h160v-160H180v160Zm440 0h160v-160H620v160Z\"/>\n",
              "  </svg>\n",
              "    </button>\n",
              "\n",
              "  <style>\n",
              "    .colab-df-container {\n",
              "      display:flex;\n",
              "      gap: 12px;\n",
              "    }\n",
              "\n",
              "    .colab-df-convert {\n",
              "      background-color: #E8F0FE;\n",
              "      border: none;\n",
              "      border-radius: 50%;\n",
              "      cursor: pointer;\n",
              "      display: none;\n",
              "      fill: #1967D2;\n",
              "      height: 32px;\n",
              "      padding: 0 0 0 0;\n",
              "      width: 32px;\n",
              "    }\n",
              "\n",
              "    .colab-df-convert:hover {\n",
              "      background-color: #E2EBFA;\n",
              "      box-shadow: 0px 1px 2px rgba(60, 64, 67, 0.3), 0px 1px 3px 1px rgba(60, 64, 67, 0.15);\n",
              "      fill: #174EA6;\n",
              "    }\n",
              "\n",
              "    .colab-df-buttons div {\n",
              "      margin-bottom: 4px;\n",
              "    }\n",
              "\n",
              "    [theme=dark] .colab-df-convert {\n",
              "      background-color: #3B4455;\n",
              "      fill: #D2E3FC;\n",
              "    }\n",
              "\n",
              "    [theme=dark] .colab-df-convert:hover {\n",
              "      background-color: #434B5C;\n",
              "      box-shadow: 0px 1px 3px 1px rgba(0, 0, 0, 0.15);\n",
              "      filter: drop-shadow(0px 1px 2px rgba(0, 0, 0, 0.3));\n",
              "      fill: #FFFFFF;\n",
              "    }\n",
              "  </style>\n",
              "\n",
              "    <script>\n",
              "      const buttonEl =\n",
              "        document.querySelector('#df-1898b015-4654-4cdb-9760-83ced5c3eb38 button.colab-df-convert');\n",
              "      buttonEl.style.display =\n",
              "        google.colab.kernel.accessAllowed ? 'block' : 'none';\n",
              "\n",
              "      async function convertToInteractive(key) {\n",
              "        const element = document.querySelector('#df-1898b015-4654-4cdb-9760-83ced5c3eb38');\n",
              "        const dataTable =\n",
              "          await google.colab.kernel.invokeFunction('convertToInteractive',\n",
              "                                                    [key], {});\n",
              "        if (!dataTable) return;\n",
              "\n",
              "        const docLinkHtml = 'Like what you see? Visit the ' +\n",
              "          '<a target=\"_blank\" href=https://colab.research.google.com/notebooks/data_table.ipynb>data table notebook</a>'\n",
              "          + ' to learn more about interactive tables.';\n",
              "        element.innerHTML = '';\n",
              "        dataTable['output_type'] = 'display_data';\n",
              "        await google.colab.output.renderOutput(dataTable, element);\n",
              "        const docLink = document.createElement('div');\n",
              "        docLink.innerHTML = docLinkHtml;\n",
              "        element.appendChild(docLink);\n",
              "      }\n",
              "    </script>\n",
              "  </div>\n",
              "\n",
              "\n",
              "<div id=\"df-16be504d-1821-4283-8fc5-708bfcfcfe1b\">\n",
              "  <button class=\"colab-df-quickchart\" onclick=\"quickchart('df-16be504d-1821-4283-8fc5-708bfcfcfe1b')\"\n",
              "            title=\"Suggest charts.\"\n",
              "            style=\"display:none;\">\n",
              "\n",
              "<svg xmlns=\"http://www.w3.org/2000/svg\" height=\"24px\"viewBox=\"0 0 24 24\"\n",
              "     width=\"24px\">\n",
              "    <g>\n",
              "        <path d=\"M19 3H5c-1.1 0-2 .9-2 2v14c0 1.1.9 2 2 2h14c1.1 0 2-.9 2-2V5c0-1.1-.9-2-2-2zM9 17H7v-7h2v7zm4 0h-2V7h2v10zm4 0h-2v-4h2v4z\"/>\n",
              "    </g>\n",
              "</svg>\n",
              "  </button>\n",
              "\n",
              "<style>\n",
              "  .colab-df-quickchart {\n",
              "    background-color: #E8F0FE;\n",
              "    border: none;\n",
              "    border-radius: 50%;\n",
              "    cursor: pointer;\n",
              "    display: none;\n",
              "    fill: #1967D2;\n",
              "    height: 32px;\n",
              "    padding: 0 0 0 0;\n",
              "    width: 32px;\n",
              "  }\n",
              "\n",
              "  .colab-df-quickchart:hover {\n",
              "    background-color: #E2EBFA;\n",
              "    box-shadow: 0px 1px 2px rgba(60, 64, 67, 0.3), 0px 1px 3px 1px rgba(60, 64, 67, 0.15);\n",
              "    fill: #174EA6;\n",
              "  }\n",
              "\n",
              "  [theme=dark] .colab-df-quickchart {\n",
              "    background-color: #3B4455;\n",
              "    fill: #D2E3FC;\n",
              "  }\n",
              "\n",
              "  [theme=dark] .colab-df-quickchart:hover {\n",
              "    background-color: #434B5C;\n",
              "    box-shadow: 0px 1px 3px 1px rgba(0, 0, 0, 0.15);\n",
              "    filter: drop-shadow(0px 1px 2px rgba(0, 0, 0, 0.3));\n",
              "    fill: #FFFFFF;\n",
              "  }\n",
              "</style>\n",
              "\n",
              "  <script>\n",
              "    async function quickchart(key) {\n",
              "      const charts = await google.colab.kernel.invokeFunction(\n",
              "          'suggestCharts', [key], {});\n",
              "    }\n",
              "    (() => {\n",
              "      let quickchartButtonEl =\n",
              "        document.querySelector('#df-16be504d-1821-4283-8fc5-708bfcfcfe1b button');\n",
              "      quickchartButtonEl.style.display =\n",
              "        google.colab.kernel.accessAllowed ? 'block' : 'none';\n",
              "    })();\n",
              "  </script>\n",
              "</div>\n",
              "    </div>\n",
              "  </div>\n"
            ]
          },
          "metadata": {},
          "execution_count": 16
        }
      ]
    },
    {
      "cell_type": "code",
      "source": [
        "# Spliting the data into Features and Targets\n",
        "\n",
        "X=new_data.drop(columns='Class', axis=1)\n",
        "Y=new_data['Class']"
      ],
      "metadata": {
        "id": "pxD0vyeSAKk4"
      },
      "execution_count": 18,
      "outputs": []
    },
    {
      "cell_type": "code",
      "source": [
        "print(X)"
      ],
      "metadata": {
        "colab": {
          "base_uri": "https://localhost:8080/"
        },
        "id": "IYNb6FgWD8_8",
        "outputId": "fc3d55d7-3028-4a53-8932-73668f3028ca"
      },
      "execution_count": 19,
      "outputs": [
        {
          "output_type": "stream",
          "name": "stdout",
          "text": [
            "         Time        V1        V2        V3        V4        V5        V6  \\\n",
            "58759   48533 -1.321038  0.447223  0.534273 -0.509824  1.633673  0.212502   \n",
            "4593     3945 -1.476588  0.208667 -0.556085 -0.107826 -1.722552  0.879064   \n",
            "69673   53527  1.416024 -0.263850  0.011829 -0.641799 -0.673429 -0.900209   \n",
            "110442  71826 -0.932935  0.470182  1.887888 -1.202398  0.332200 -0.949726   \n",
            "80218   58384 -0.415545  1.168379  1.389886  0.573037 -0.436592  0.099706   \n",
            "...       ...       ...       ...       ...       ...       ...       ...   \n",
            "124087  77171  1.118560  1.291858 -1.298805  2.135772  0.772204 -1.147291   \n",
            "124115  77182 -1.410852  2.268271 -2.297554  1.871331  0.248957 -1.208799   \n",
            "124176  77202 -0.356326  1.435305 -0.813564  1.993117  2.055878 -0.543579   \n",
            "125342  77627 -7.139060  2.773082 -6.757845  4.446456 -5.464428 -1.713401   \n",
            "128479  78725 -4.312479  1.886476 -2.338634 -0.475243 -1.185444 -2.112079   \n",
            "\n",
            "              V7        V8        V9  ...       V20       V21       V22  \\\n",
            "58759   0.600004  0.143855 -0.328791  ... -0.191081  0.085141  0.344871   \n",
            "4593    3.428826 -0.521704  0.937382  ...  0.024803 -0.212722  0.148450   \n",
            "69673  -0.476242 -0.187176 -0.813066  ...  0.149292 -0.172637 -0.608187   \n",
            "110442  0.516436  0.022722 -0.692205  ...  0.051606  0.019905 -0.150372   \n",
            "80218  -0.736773 -2.371331 -0.645015  ... -0.346085  2.047256 -1.567772   \n",
            "...          ...       ...       ...  ...       ...       ...       ...   \n",
            "124087  0.390578 -0.107072 -0.038339  ... -0.023576 -0.346374 -0.663588   \n",
            "124115 -1.358648  1.102916 -1.317364  ...  0.058063  0.155381 -0.614880   \n",
            "124176  0.487691  0.085449 -0.536352  ...  0.303262 -0.312863 -0.687874   \n",
            "125342 -6.485365  3.409395 -3.053493  ... -0.616949  1.303250 -0.016118   \n",
            "128479 -2.122793  0.272565  0.290273  ... -0.718706  0.550541 -0.067870   \n",
            "\n",
            "             V23       V24       V25       V26       V27       V28  Amount  \n",
            "58759  -0.376739 -1.302326  0.057636 -0.516669  0.146027  0.285253   40.98  \n",
            "4593    0.620162 -0.435439 -0.071199  0.289567  0.213096 -0.261854  643.33  \n",
            "69673   0.045724 -0.213168  0.305857 -0.450186  0.021716  0.040621   17.99  \n",
            "110442 -0.229491  0.382093  0.226717  0.868595 -0.079497  0.041891    3.66  \n",
            "80218  -0.063756  0.314525  1.037215  0.385577  0.136658  0.161811    4.49  \n",
            "...          ...       ...       ...       ...       ...       ...     ...  \n",
            "124087 -0.102326  0.017911  0.650302 -0.332366  0.105949  0.128124    1.00  \n",
            "124115 -0.196126 -0.464376  0.118473 -0.484537  0.373596  0.187657    1.00  \n",
            "124176 -0.267003 -1.158480  0.271460 -0.155397  0.114328  0.101526    1.00  \n",
            "125342 -0.876670  0.382230 -1.054624 -0.614606 -0.766848  0.409424  106.90  \n",
            "128479 -1.114692  0.269069 -0.020572 -0.963489 -0.918888  0.001454   60.00  \n",
            "\n",
            "[753 rows x 30 columns]\n"
          ]
        }
      ]
    },
    {
      "cell_type": "code",
      "source": [
        "print(Y)"
      ],
      "metadata": {
        "colab": {
          "base_uri": "https://localhost:8080/"
        },
        "id": "t-pyBHxrD_vj",
        "outputId": "9fe7ae59-be8d-49e0-8476-7d390ea2eead"
      },
      "execution_count": 20,
      "outputs": [
        {
          "output_type": "stream",
          "name": "stdout",
          "text": [
            "58759     0.0\n",
            "4593      0.0\n",
            "69673     0.0\n",
            "110442    0.0\n",
            "80218     0.0\n",
            "         ... \n",
            "124087    1.0\n",
            "124115    1.0\n",
            "124176    1.0\n",
            "125342    1.0\n",
            "128479    1.0\n",
            "Name: Class, Length: 753, dtype: float64\n"
          ]
        }
      ]
    },
    {
      "cell_type": "markdown",
      "source": [
        "Spliting data into train and test data"
      ],
      "metadata": {
        "id": "OExTAwnmE8bw"
      }
    },
    {
      "cell_type": "code",
      "source": [
        "# Split the data into train and test\n",
        "\n",
        "X_train,X_test,Y_train,Y_test=train_test_split (X,Y, test_size=0.2, stratify=Y,random_state=2)"
      ],
      "metadata": {
        "id": "PzXNOSWmEC53"
      },
      "execution_count": 21,
      "outputs": []
    },
    {
      "cell_type": "code",
      "source": [
        "print(X.shape, X_train.shape,X_test.shape)"
      ],
      "metadata": {
        "colab": {
          "base_uri": "https://localhost:8080/"
        },
        "id": "zL4WxQHbEow4",
        "outputId": "c11fb597-7ace-46f9-ebaa-11813eafbe0c"
      },
      "execution_count": 22,
      "outputs": [
        {
          "output_type": "stream",
          "name": "stdout",
          "text": [
            "(753, 30) (602, 30) (151, 30)\n"
          ]
        }
      ]
    },
    {
      "cell_type": "markdown",
      "source": [
        "Model Training - Logistic Regression"
      ],
      "metadata": {
        "id": "GlrX8V5oFE-C"
      }
    },
    {
      "cell_type": "code",
      "source": [
        "# model training\n",
        "\n",
        "model=LogisticRegression()"
      ],
      "metadata": {
        "id": "xRCthTA-ErQE"
      },
      "execution_count": 23,
      "outputs": []
    },
    {
      "cell_type": "code",
      "source": [
        "# training the model with training data\n",
        "\n",
        "model.fit(X_train, Y_train)"
      ],
      "metadata": {
        "colab": {
          "base_uri": "https://localhost:8080/",
          "height": 74
        },
        "id": "LU5_hdDXEu2D",
        "outputId": "4ebc2e2f-6a60-4659-8f76-feb312b8a327"
      },
      "execution_count": 24,
      "outputs": [
        {
          "output_type": "execute_result",
          "data": {
            "text/plain": [
              "LogisticRegression()"
            ],
            "text/html": [
              "<style>#sk-container-id-1 {color: black;background-color: white;}#sk-container-id-1 pre{padding: 0;}#sk-container-id-1 div.sk-toggleable {background-color: white;}#sk-container-id-1 label.sk-toggleable__label {cursor: pointer;display: block;width: 100%;margin-bottom: 0;padding: 0.3em;box-sizing: border-box;text-align: center;}#sk-container-id-1 label.sk-toggleable__label-arrow:before {content: \"▸\";float: left;margin-right: 0.25em;color: #696969;}#sk-container-id-1 label.sk-toggleable__label-arrow:hover:before {color: black;}#sk-container-id-1 div.sk-estimator:hover label.sk-toggleable__label-arrow:before {color: black;}#sk-container-id-1 div.sk-toggleable__content {max-height: 0;max-width: 0;overflow: hidden;text-align: left;background-color: #f0f8ff;}#sk-container-id-1 div.sk-toggleable__content pre {margin: 0.2em;color: black;border-radius: 0.25em;background-color: #f0f8ff;}#sk-container-id-1 input.sk-toggleable__control:checked~div.sk-toggleable__content {max-height: 200px;max-width: 100%;overflow: auto;}#sk-container-id-1 input.sk-toggleable__control:checked~label.sk-toggleable__label-arrow:before {content: \"▾\";}#sk-container-id-1 div.sk-estimator input.sk-toggleable__control:checked~label.sk-toggleable__label {background-color: #d4ebff;}#sk-container-id-1 div.sk-label input.sk-toggleable__control:checked~label.sk-toggleable__label {background-color: #d4ebff;}#sk-container-id-1 input.sk-hidden--visually {border: 0;clip: rect(1px 1px 1px 1px);clip: rect(1px, 1px, 1px, 1px);height: 1px;margin: -1px;overflow: hidden;padding: 0;position: absolute;width: 1px;}#sk-container-id-1 div.sk-estimator {font-family: monospace;background-color: #f0f8ff;border: 1px dotted black;border-radius: 0.25em;box-sizing: border-box;margin-bottom: 0.5em;}#sk-container-id-1 div.sk-estimator:hover {background-color: #d4ebff;}#sk-container-id-1 div.sk-parallel-item::after {content: \"\";width: 100%;border-bottom: 1px solid gray;flex-grow: 1;}#sk-container-id-1 div.sk-label:hover label.sk-toggleable__label {background-color: #d4ebff;}#sk-container-id-1 div.sk-serial::before {content: \"\";position: absolute;border-left: 1px solid gray;box-sizing: border-box;top: 0;bottom: 0;left: 50%;z-index: 0;}#sk-container-id-1 div.sk-serial {display: flex;flex-direction: column;align-items: center;background-color: white;padding-right: 0.2em;padding-left: 0.2em;position: relative;}#sk-container-id-1 div.sk-item {position: relative;z-index: 1;}#sk-container-id-1 div.sk-parallel {display: flex;align-items: stretch;justify-content: center;background-color: white;position: relative;}#sk-container-id-1 div.sk-item::before, #sk-container-id-1 div.sk-parallel-item::before {content: \"\";position: absolute;border-left: 1px solid gray;box-sizing: border-box;top: 0;bottom: 0;left: 50%;z-index: -1;}#sk-container-id-1 div.sk-parallel-item {display: flex;flex-direction: column;z-index: 1;position: relative;background-color: white;}#sk-container-id-1 div.sk-parallel-item:first-child::after {align-self: flex-end;width: 50%;}#sk-container-id-1 div.sk-parallel-item:last-child::after {align-self: flex-start;width: 50%;}#sk-container-id-1 div.sk-parallel-item:only-child::after {width: 0;}#sk-container-id-1 div.sk-dashed-wrapped {border: 1px dashed gray;margin: 0 0.4em 0.5em 0.4em;box-sizing: border-box;padding-bottom: 0.4em;background-color: white;}#sk-container-id-1 div.sk-label label {font-family: monospace;font-weight: bold;display: inline-block;line-height: 1.2em;}#sk-container-id-1 div.sk-label-container {text-align: center;}#sk-container-id-1 div.sk-container {/* jupyter's `normalize.less` sets `[hidden] { display: none; }` but bootstrap.min.css set `[hidden] { display: none !important; }` so we also need the `!important` here to be able to override the default hidden behavior on the sphinx rendered scikit-learn.org. See: https://github.com/scikit-learn/scikit-learn/issues/21755 */display: inline-block !important;position: relative;}#sk-container-id-1 div.sk-text-repr-fallback {display: none;}</style><div id=\"sk-container-id-1\" class=\"sk-top-container\"><div class=\"sk-text-repr-fallback\"><pre>LogisticRegression()</pre><b>In a Jupyter environment, please rerun this cell to show the HTML representation or trust the notebook. <br />On GitHub, the HTML representation is unable to render, please try loading this page with nbviewer.org.</b></div><div class=\"sk-container\" hidden><div class=\"sk-item\"><div class=\"sk-estimator sk-toggleable\"><input class=\"sk-toggleable__control sk-hidden--visually\" id=\"sk-estimator-id-1\" type=\"checkbox\" checked><label for=\"sk-estimator-id-1\" class=\"sk-toggleable__label sk-toggleable__label-arrow\">LogisticRegression</label><div class=\"sk-toggleable__content\"><pre>LogisticRegression()</pre></div></div></div></div></div>"
            ]
          },
          "metadata": {},
          "execution_count": 24
        }
      ]
    },
    {
      "cell_type": "markdown",
      "source": [
        "Model Evaluation"
      ],
      "metadata": {
        "id": "vEV9IHIIE0Bo"
      }
    },
    {
      "cell_type": "code",
      "source": [
        "# accuracy on training data\n",
        "\n",
        "X_train_prediction=model.predict(X_train)\n",
        "training_data_accuracy=accuracy_score(X_train_prediction,Y_train)"
      ],
      "metadata": {
        "id": "ikW9yvCXEx62"
      },
      "execution_count": 25,
      "outputs": []
    },
    {
      "cell_type": "code",
      "source": [
        "print('Accuracy on training data :{:.2f}%'.format(training_data_accuracy*100))"
      ],
      "metadata": {
        "colab": {
          "base_uri": "https://localhost:8080/"
        },
        "id": "zOQLzv8AFcZ5",
        "outputId": "8f2ef157-7d8b-483a-f130-0d1c710c416e"
      },
      "execution_count": 27,
      "outputs": [
        {
          "output_type": "stream",
          "name": "stdout",
          "text": [
            "Accuracy on training data :95.35%\n"
          ]
        }
      ]
    },
    {
      "cell_type": "code",
      "source": [
        "# accuracy on test data\n",
        "\n",
        "X_test_prediction=model.predict(X_test)\n",
        "test_data_accuracy=accuracy_score(X_test_prediction,Y_test)"
      ],
      "metadata": {
        "id": "8DQttEoaF0RV"
      },
      "execution_count": 28,
      "outputs": []
    },
    {
      "cell_type": "code",
      "source": [
        "print('Accuracy on test data :{:.2f}%'.format(test_data_accuracy*100))"
      ],
      "metadata": {
        "colab": {
          "base_uri": "https://localhost:8080/"
        },
        "id": "VJXLQGRfGEpY",
        "outputId": "f252e804-bd2c-4f17-cd0c-e0765acfcc74"
      },
      "execution_count": 29,
      "outputs": [
        {
          "output_type": "stream",
          "name": "stdout",
          "text": [
            "Accuracy on test data :92.05%\n"
          ]
        }
      ]
    },
    {
      "cell_type": "code",
      "source": [
        "print (classification_report(Y_test , model.predict(X_test)))"
      ],
      "metadata": {
        "colab": {
          "base_uri": "https://localhost:8080/"
        },
        "id": "TyKWHPzrGPIW",
        "outputId": "abee1608-a2f1-4808-81d1-061cad3adbef"
      },
      "execution_count": 30,
      "outputs": [
        {
          "output_type": "stream",
          "name": "stdout",
          "text": [
            "              precision    recall  f1-score   support\n",
            "\n",
            "         0.0       0.90      0.99      0.94        99\n",
            "         1.0       0.98      0.79      0.87        52\n",
            "\n",
            "    accuracy                           0.92       151\n",
            "   macro avg       0.94      0.89      0.91       151\n",
            "weighted avg       0.93      0.92      0.92       151\n",
            "\n"
          ]
        }
      ]
    },
    {
      "cell_type": "markdown",
      "source": [
        "**Conclusion**\n",
        "\n",
        "The logistic regression algorithm is likely to be a  good model for the given problem to classify transactions as fraudulent or genuine. It has evaluated the model's performance using metrics like precision, recall,and F1-score, and considered techniques like oversampling or\n",
        "undersampling for improving results."
      ],
      "metadata": {
        "id": "wgO3afXtGwN9"
      }
    },
    {
      "cell_type": "code",
      "source": [],
      "metadata": {
        "id": "R7z5jlxOGVne"
      },
      "execution_count": null,
      "outputs": []
    }
  ]
}